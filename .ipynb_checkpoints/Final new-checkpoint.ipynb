{
 "cells": [
  {
   "cell_type": "code",
   "execution_count": 1,
   "id": "4dfe6e81-59a8-49e8-bd61-984defeea66b",
   "metadata": {},
   "outputs": [],
   "source": [
    "from pyspark.sql import SparkSession\n",
    "from pyspark.sql.functions import col, when, count, avg, monotonically_increasing_id, rand\n",
    "from pyspark.ml.feature import StringIndexer, VectorAssembler, StandardScaler\n",
    "from pyspark.ml.clustering import KMeans\n",
    "from pyspark.ml.classification import LogisticRegression, RandomForestClassifier, DecisionTreeClassifier\n",
    "from pyspark.ml.regression import RandomForestRegressor, DecisionTreeRegressor, LinearRegression\n",
    "from pyspark.ml.evaluation import ClusteringEvaluator, MulticlassClassificationEvaluator, RegressionEvaluator\n",
    "import pandas as pd\n",
    "from sklearn.model_selection import train_test_split\n",
    "from pyspark.sql import SparkSession, functions as F\n"
   ]
  },
  {
   "cell_type": "code",
   "execution_count": 2,
   "id": "6f1557d3-a100-40b3-a854-88803167f29e",
   "metadata": {},
   "outputs": [
    {
     "name": "stderr",
     "output_type": "stream",
     "text": [
      "WARNING: Using incubator modules: jdk.incubator.vector\n",
      "Using Spark's default log4j profile: org/apache/spark/log4j2-defaults.properties\n",
      "25/07/08 12:57:02 WARN Utils: Your hostname, Sandeshs-MacBook-Air.local, resolves to a loopback address: 127.0.0.1; using 192.168.10.100 instead (on interface en0)\n",
      "25/07/08 12:57:02 WARN Utils: Set SPARK_LOCAL_IP if you need to bind to another address\n",
      "Using Spark's default log4j profile: org/apache/spark/log4j2-defaults.properties\n",
      "Setting default log level to \"WARN\".\n",
      "To adjust logging level use sc.setLogLevel(newLevel). For SparkR, use setLogLevel(newLevel).\n",
      "25/07/08 12:57:02 WARN NativeCodeLoader: Unable to load native-hadoop library for your platform... using builtin-java classes where applicable\n",
      "25/07/08 12:57:03 WARN Utils: Service 'SparkUI' could not bind on port 4040. Attempting port 4041.\n"
     ]
    }
   ],
   "source": [
    "spark = SparkSession.builder.appName('StudentMentalHealth').getOrCreate()"
   ]
  },
  {
   "cell_type": "code",
   "execution_count": 3,
   "id": "35fb45b9-4291-4aad-a27c-da65352e29a4",
   "metadata": {},
   "outputs": [],
   "source": [
    "file_path = 'students_mental_health.csv'\n",
    "df = spark.read.csv(file_path, header=True, inferSchema=True)\n"
   ]
  },
  {
   "cell_type": "code",
   "execution_count": 4,
   "id": "0c372765-1885-4956-93ec-908a66b779ce",
   "metadata": {},
   "outputs": [
    {
     "name": "stdout",
     "output_type": "stream",
     "text": [
      "root\n",
      " |-- Age: integer (nullable = true)\n",
      " |-- Course: string (nullable = true)\n",
      " |-- Gender: string (nullable = true)\n",
      " |-- CGPA: double (nullable = true)\n",
      " |-- Stress_Level: integer (nullable = true)\n",
      " |-- Depression_Score: integer (nullable = true)\n",
      " |-- Anxiety_Score: integer (nullable = true)\n",
      " |-- Sleep_Quality: string (nullable = true)\n",
      " |-- Physical_Activity: string (nullable = true)\n",
      " |-- Diet_Quality: string (nullable = true)\n",
      " |-- Social_Support: string (nullable = true)\n",
      " |-- Relationship_Status: string (nullable = true)\n",
      " |-- Substance_Use: string (nullable = true)\n",
      " |-- Counseling_Service_Use: string (nullable = true)\n",
      " |-- Family_History: string (nullable = true)\n",
      " |-- Chronic_Illness: string (nullable = true)\n",
      " |-- Financial_Stress: integer (nullable = true)\n",
      " |-- Extracurricular_Involvement: string (nullable = true)\n",
      " |-- Semester_Credit_Load: integer (nullable = true)\n",
      " |-- Residence_Type: string (nullable = true)\n",
      "\n",
      "+---+----------------+------+----+------------+----------------+-------------+-------------+-----------------+------------+--------------+-------------------+-------------+----------------------+--------------+---------------+----------------+---------------------------+--------------------+--------------+\n",
      "|Age|          Course|Gender|CGPA|Stress_Level|Depression_Score|Anxiety_Score|Sleep_Quality|Physical_Activity|Diet_Quality|Social_Support|Relationship_Status|Substance_Use|Counseling_Service_Use|Family_History|Chronic_Illness|Financial_Stress|Extracurricular_Involvement|Semester_Credit_Load|Residence_Type|\n",
      "+---+----------------+------+----+------------+----------------+-------------+-------------+-----------------+------------+--------------+-------------------+-------------+----------------------+--------------+---------------+----------------+---------------------------+--------------------+--------------+\n",
      "| 25|          Others|  Male|3.56|           3|               3|            2|         Good|         Moderate|        Good|      Moderate|            Married|        Never|                 Never|            No|             No|               2|                   Moderate|                  17|     On-Campus|\n",
      "| 24|     Engineering|Female|2.44|           0|               3|            0|      Average|              Low|     Average|           Low|             Single| Occasionally|          Occasionally|            No|             No|               3|                        Low|                  27|     On-Campus|\n",
      "| 19|        Business|Female|3.74|           4|               0|            3|         Good|              Low|     Average|      Moderate|  In a Relationship|        Never|          Occasionally|            No|             No|               4|                       High|                  15|     On-Campus|\n",
      "| 19|Computer Science|  Male|3.65|           2|               1|            0|      Average|              Low|     Average|      Moderate|             Single|         NULL|                 Never|            No|             No|               4|                   Moderate|                  20|    Off-Campus|\n",
      "| 18|        Business|  Male| 3.4|           3|               3|            4|         Good|              Low|     Average|          High|            Married|        Never|                 Never|            No|            Yes|               0|                       High|                  23|     On-Campus|\n",
      "+---+----------------+------+----+------------+----------------+-------------+-------------+-----------------+------------+--------------+-------------------+-------------+----------------------+--------------+---------------+----------------+---------------------------+--------------------+--------------+\n",
      "only showing top 5 rows\n",
      "Number of rows: 7022\n",
      "+----------+-------------+-------------+-----------+-------------------+-----------------------+--------------------+--------------------+------------------------+-------------------+---------------------+--------------------------+--------------------+-----------------------------+---------------------+----------------------+-----------------------+----------------------------------+---------------------------+---------------------+\n",
      "|count(Age)|count(Course)|count(Gender)|count(CGPA)|count(Stress_Level)|count(Depression_Score)|count(Anxiety_Score)|count(Sleep_Quality)|count(Physical_Activity)|count(Diet_Quality)|count(Social_Support)|count(Relationship_Status)|count(Substance_Use)|count(Counseling_Service_Use)|count(Family_History)|count(Chronic_Illness)|count(Financial_Stress)|count(Extracurricular_Involvement)|count(Semester_Credit_Load)|count(Residence_Type)|\n",
      "+----------+-------------+-------------+-----------+-------------------+-----------------------+--------------------+--------------------+------------------------+-------------------+---------------------+--------------------------+--------------------+-----------------------------+---------------------+----------------------+-----------------------+----------------------------------+---------------------------+---------------------+\n",
      "|      7022|         7022|         7022|       7010|               7022|                   7022|                7022|                7022|                    7022|               7022|                 7022|                      7022|                7007|                         7022|                 7022|                  7022|                   7022|                              7022|                       7022|                 7022|\n",
      "+----------+-------------+-------------+-----------+-------------------+-----------------------+--------------------+--------------------+------------------------+-------------------+---------------------+--------------------------+--------------------+-----------------------------+---------------------+----------------------+-----------------------+----------------------------------+---------------------------+---------------------+\n",
      "\n"
     ]
    },
    {
     "name": "stderr",
     "output_type": "stream",
     "text": [
      "25/07/08 12:57:06 WARN SparkStringUtils: Truncated the string representation of a plan since it was too large. This behavior can be adjusted by setting 'spark.sql.debug.maxToStringFields'.\n"
     ]
    },
    {
     "name": "stdout",
     "output_type": "stream",
     "text": [
      "+-------+------------------+--------+------+-------------------+------------------+------------------+------------------+-------------+-----------------+------------+--------------+-------------------+-------------+----------------------+--------------+---------------+------------------+---------------------------+--------------------+--------------+\n",
      "|summary|               Age|  Course|Gender|               CGPA|      Stress_Level|  Depression_Score|     Anxiety_Score|Sleep_Quality|Physical_Activity|Diet_Quality|Social_Support|Relationship_Status|Substance_Use|Counseling_Service_Use|Family_History|Chronic_Illness|  Financial_Stress|Extracurricular_Involvement|Semester_Credit_Load|Residence_Type|\n",
      "+-------+------------------+--------+------+-------------------+------------------+------------------+------------------+-------------+-----------------+------------+--------------+-------------------+-------------+----------------------+--------------+---------------+------------------+---------------------------+--------------------+--------------+\n",
      "|  count|              7022|    7022|  7022|               7010|              7022|              7022|              7022|         7022|             7022|        7022|          7022|               7022|         7007|                  7022|          7022|           7022|              7022|                       7022|                7022|          7022|\n",
      "|   mean|23.003417829678153|    NULL|  NULL|  3.491269614835956| 2.427940757618912|2.2544859014525778|2.3004841925377386|         NULL|             NULL|        NULL|          NULL|               NULL|         NULL|                  NULL|          NULL|           NULL|2.4530048419253774|                       NULL|  22.010538308174308|          NULL|\n",
      "| stddev| 3.853977573627935|    NULL|  NULL|0.28742049970013506|1.6384080263335483|1.6251930607042382|1.6243052420667115|         NULL|             NULL|        NULL|          NULL|               NULL|         NULL|                  NULL|          NULL|           NULL|1.7089954286054552|                       NULL|   4.358379699244996|          NULL|\n",
      "|    min|                18|Business|Female|               2.44|                 0|                 0|                 0|      Average|             High|     Average|          High|  In a Relationship|   Frequently|            Frequently|            No|             No|                 0|                       High|                  15|    Off-Campus|\n",
      "|    max|                35|  Others|  Male|                4.0|                 5|                 5|                 5|         Poor|         Moderate|        Poor|      Moderate|             Single| Occasionally|          Occasionally|           Yes|            Yes|                 5|                   Moderate|                  29|   With Family|\n",
      "+-------+------------------+--------+------+-------------------+------------------+------------------+------------------+-------------+-----------------+------------+--------------+-------------------+-------------+----------------------+--------------+---------------+------------------+---------------------------+--------------------+--------------+\n",
      "\n",
      "+------+-----+\n",
      "|Gender|count|\n",
      "+------+-----+\n",
      "|Female| 3475|\n",
      "|  Male| 3547|\n",
      "+------+-----+\n",
      "\n",
      "+-------------+-----+\n",
      "|Sleep_Quality|count|\n",
      "+-------------+-----+\n",
      "|      Average| 2735|\n",
      "|         Good| 3589|\n",
      "|         Poor|  698|\n",
      "+-------------+-----+\n",
      "\n",
      "+----------------+------------------+\n",
      "|          Course|          Avg_CGPA|\n",
      "+----------------+------------------+\n",
      "|     Engineering| 3.480691588785048|\n",
      "|          Others|3.4926153846153807|\n",
      "|             Law|3.4939711191335756|\n",
      "|        Business|3.4902237762237767|\n",
      "|Computer Science| 3.495414634146338|\n",
      "|         Medical| 3.492752380952381|\n",
      "+----------------+------------------+\n",
      "\n"
     ]
    }
   ],
   "source": [
    "df.printSchema()\n",
    "df.show(5)\n",
    "print('Number of rows:', df.count())\n",
    "df.select([count(col) for col in df.columns]).show()\n",
    "df.describe().show()\n",
    "df.groupBy('Gender').count().show()\n",
    "df.groupBy('Sleep_Quality').count().show()\n",
    "df.groupBy('Course').agg(avg('CGPA').alias('Avg_CGPA')).show()\n"
   ]
  },
  {
   "cell_type": "code",
   "execution_count": 5,
   "id": "e8278dbf-9c2d-42ad-be56-797ccee77e8b",
   "metadata": {},
   "outputs": [],
   "source": [
    "# 1. Drop rows with more than 5 missing (null) values (at least 15 non-null required)\n",
    "df = df.dropna(thresh=15)\n",
    "\n",
    "# 2. Fill missing values in numeric columns with median\n",
    "numeric_cols = [\n",
    "    'Age', 'CGPA', 'Stress_Level', 'Depression_Score', 'Anxiety_Score',\n",
    "    'Financial_Stress', 'Semester_Credit_Load'\n",
    "]\n",
    "for colname in numeric_cols:\n",
    "    median_val = df.approxQuantile(colname, [0.5], 0.25)[0]\n",
    "    df = df.withColumn(\n",
    "        colname,\n",
    "        when(df[colname].isNull(), median_val).otherwise(df[colname])\n",
    "    )\n",
    "\n",
    "# 3. Prepare categorical columns (nulls handled by StringIndexer 'keep')\n",
    "categorical_cols = [\n",
    "    'Gender', 'Course', 'Sleep_Quality', 'Physical_Activity', 'Diet_Quality',\n",
    "    'Social_Support', 'Relationship_Status', 'Substance_Use',\n",
    "    'Counseling_Service_Use', 'Family_History', 'Chronic_Illness',\n",
    "    'Extracurricular_Involvement', 'Residence_Type'\n",
    "]\n",
    "for colname in categorical_cols:\n",
    "    indexer = StringIndexer(inputCol=colname, outputCol=colname+'_idx', handleInvalid='keep')\n",
    "    df = indexer.fit(df).transform(df)\n"
   ]
  },
  {
   "cell_type": "code",
   "execution_count": 6,
   "id": "f8ee0806-dc1c-404c-942c-14cac3dbf791",
   "metadata": {},
   "outputs": [],
   "source": [
    "# 1. Create Depression_Level (and/or Depression_Class) in your Spark DataFrame\n",
    "q33, median, q66 = df.approxQuantile(\"Depression_Score\", [0.33, 0.5, 0.66], 0.01)\n",
    "df = df.withColumn(\n",
    "    \"Depression_Level\",\n",
    "    F.when(F.col(\"Depression_Score\") <= q33, \"Low\")\n",
    "     .when((F.col(\"Depression_Score\") > q33) & (F.col(\"Depression_Score\") <= q66), \"Moderate\")\n",
    "     .otherwise(\"High\")\n",
    ")"
   ]
  },
  {
   "cell_type": "code",
   "execution_count": 7,
   "id": "e520ec3f-9cdb-4cc7-a75f-b8608a5be4fa",
   "metadata": {},
   "outputs": [],
   "source": [
    "# 2. Register (or re-register) the DataFrame as a SQL view\n",
    "df.createOrReplaceTempView(\"students\")"
   ]
  },
  {
   "cell_type": "code",
   "execution_count": 8,
   "id": "8f310d33-8ea2-47bd-b316-7b0ffdd966a6",
   "metadata": {},
   "outputs": [
    {
     "name": "stdout",
     "output_type": "stream",
     "text": [
      "+------+------------+\n",
      "|Gender|num_students|\n",
      "+------+------------+\n",
      "|  Male|        3547|\n",
      "|Female|        3475|\n",
      "+------+------------+\n",
      "\n"
     ]
    }
   ],
   "source": [
    "\n",
    "# 3. Now your SparkSQL queries will work!\n",
    "spark.sql(\"SELECT Gender, COUNT(*) AS num_students FROM students GROUP BY Gender ORDER BY num_students DESC\").show()"
   ]
  },
  {
   "cell_type": "code",
   "execution_count": 9,
   "id": "3e79ca9f-2e18-4f89-bbb2-cff91bd6cad2",
   "metadata": {},
   "outputs": [
    {
     "name": "stdout",
     "output_type": "stream",
     "text": [
      "+------------------+--------+--------+\n",
      "|          avg_cgpa|min_cgpa|max_cgpa|\n",
      "+------------------+--------+--------+\n",
      "|3.4909256622045084|    2.44|     4.0|\n",
      "+------------------+--------+--------+\n",
      "\n"
     ]
    }
   ],
   "source": [
    "spark.sql(\"SELECT AVG(CGPA) as avg_cgpa, MIN(CGPA) as min_cgpa, MAX(CGPA) as max_cgpa FROM students\").show()"
   ]
  },
  {
   "cell_type": "code",
   "execution_count": 10,
   "id": "8ec2014f-c324-4aee-a677-fbbe34c74896",
   "metadata": {},
   "outputs": [
    {
     "name": "stdout",
     "output_type": "stream",
     "text": [
      "+------+------------------+----------+----------+\n",
      "|Gender|        avg_stress|min_stress|max_stress|\n",
      "+------+------------------+----------+----------+\n",
      "|Female|2.4244604316546763|       0.0|       5.0|\n",
      "|  Male|2.4313504369890047|       0.0|       5.0|\n",
      "+------+------------------+----------+----------+\n",
      "\n"
     ]
    }
   ],
   "source": [
    "spark.sql(\"SELECT Gender, AVG(Stress_Level) as avg_stress, MIN(Stress_Level) as min_stress, MAX(Stress_Level) as max_stress FROM students GROUP BY Gender\").show()"
   ]
  },
  {
   "cell_type": "code",
   "execution_count": 11,
   "id": "66372ca7-ec0d-4031-be7a-f13531ba3dac",
   "metadata": {},
   "outputs": [
    {
     "name": "stdout",
     "output_type": "stream",
     "text": [
      "+----------------+------------------+\n",
      "|          Course|       avg_anxiety|\n",
      "+----------------+------------------+\n",
      "|             Law| 3.233212996389892|\n",
      "|          Others| 2.116083916083916|\n",
      "|         Medical|2.0788598574821853|\n",
      "|     Engineering|2.0708955223880596|\n",
      "|Computer Science|2.0486381322957197|\n",
      "|        Business|2.0376569037656904|\n",
      "+----------------+------------------+\n",
      "\n"
     ]
    }
   ],
   "source": [
    "spark.sql(\"SELECT Course, AVG(Anxiety_Score) as avg_anxiety FROM students GROUP BY Course ORDER BY avg_anxiety DESC\").show()"
   ]
  },
  {
   "cell_type": "code",
   "execution_count": 12,
   "id": "8c879eed-f47f-4cf4-a379-1a313873d7a9",
   "metadata": {},
   "outputs": [
    {
     "name": "stdout",
     "output_type": "stream",
     "text": [
      "+--------------+------------------+\n",
      "|Residence_Type|    avg_fin_stress|\n",
      "+--------------+------------------+\n",
      "|     On-Campus| 2.461101243339254|\n",
      "|    Off-Campus| 2.452654232424677|\n",
      "|   With Family|2.4376321353065538|\n",
      "+--------------+------------------+\n",
      "\n"
     ]
    }
   ],
   "source": [
    "spark.sql(\"SELECT Residence_Type, AVG(Financial_Stress) as avg_fin_stress FROM students GROUP BY Residence_Type ORDER BY avg_fin_stress DESC\").show()"
   ]
  },
  {
   "cell_type": "code",
   "execution_count": 13,
   "id": "133f080b-1f93-4eaa-84fb-65fe349d8661",
   "metadata": {},
   "outputs": [
    {
     "name": "stdout",
     "output_type": "stream",
     "text": [
      "+-------------------+------------+\n",
      "|Relationship_Status|num_students|\n",
      "+-------------------+------------+\n",
      "|             Single|        3574|\n",
      "|  In a Relationship|        2079|\n",
      "|            Married|        1369|\n",
      "+-------------------+------------+\n",
      "\n"
     ]
    }
   ],
   "source": [
    "spark.sql(\"SELECT Relationship_Status, COUNT(*) AS num_students FROM students GROUP BY Relationship_Status ORDER BY num_students DESC\").show()"
   ]
  },
  {
   "cell_type": "code",
   "execution_count": 14,
   "id": "f5f49f97-c584-4517-a106-16ad7bb77834",
   "metadata": {},
   "outputs": [
    {
     "name": "stdout",
     "output_type": "stream",
     "text": [
      "+------+--------------------+\n",
      "|Gender|   cgpa_anxiety_corr|\n",
      "+------+--------------------+\n",
      "|Female|-7.33497907051141...|\n",
      "|  Male|0.008534681191763161|\n",
      "+------+--------------------+\n",
      "\n"
     ]
    }
   ],
   "source": [
    "spark.sql(\"SELECT Gender, corr(CGPA, Anxiety_Score) as cgpa_anxiety_corr FROM students GROUP BY Gender\").show()"
   ]
  },
  {
   "cell_type": "code",
   "execution_count": 15,
   "id": "618218c9-290d-4a33-9b24-75df0b0b78bc",
   "metadata": {},
   "outputs": [
    {
     "name": "stdout",
     "output_type": "stream",
     "text": [
      "+------+--------------+------------------+-------------+-------------+----------+\n",
      "|Gender|Residence_Type|     avg_dep_score|min_dep_score|max_dep_score|n_students|\n",
      "+------+--------------+------------------+-------------+-------------+----------+\n",
      "|Female|    Off-Campus| 2.297180043383948|          0.0|          5.0|      1383|\n",
      "|Female|     On-Campus| 2.206971677559913|          0.0|          5.0|      1377|\n",
      "|Female|   With Family|2.2881118881118883|          0.0|          5.0|       715|\n",
      "|  Male|    Off-Campus| 2.223487544483986|          0.0|          5.0|      1405|\n",
      "|  Male|     On-Campus| 2.290681502086231|          0.0|          5.0|      1438|\n",
      "|  Male|   With Family|2.2173295454545454|          0.0|          5.0|       704|\n",
      "+------+--------------+------------------+-------------+-------------+----------+\n",
      "\n"
     ]
    }
   ],
   "source": [
    "# 1. Depression Score by Gender and Residence Type\n",
    "spark.sql(\"\"\"\n",
    "    SELECT Gender, Residence_Type,\n",
    "           AVG(Depression_Score) as avg_dep_score,\n",
    "           MIN(Depression_Score) as min_dep_score,\n",
    "           MAX(Depression_Score) as max_dep_score,\n",
    "           COUNT(*) as n_students\n",
    "    FROM students\n",
    "    GROUP BY Gender, Residence_Type\n",
    "    ORDER BY Gender, Residence_Type\n",
    "\"\"\").show()"
   ]
  },
  {
   "cell_type": "code",
   "execution_count": 16,
   "id": "3122c35a-ead3-48a8-ac8e-a62e561ec2ab",
   "metadata": {},
   "outputs": [
    {
     "name": "stdout",
     "output_type": "stream",
     "text": [
      "+------+--------------------+\n",
      "|Gender|   cgpa_anxiety_corr|\n",
      "+------+--------------------+\n",
      "|Female|-7.33497907051141...|\n",
      "|  Male|0.008534681191763161|\n",
      "+------+--------------------+\n",
      "\n"
     ]
    }
   ],
   "source": [
    "# 2. Correlation between CGPA and Anxiety_Score by Gender\n",
    "spark.sql(\"\"\"\n",
    "    SELECT Gender, corr(CGPA, Anxiety_Score) as cgpa_anxiety_corr\n",
    "    FROM students\n",
    "    GROUP BY Gender\n",
    "\"\"\").show()"
   ]
  },
  {
   "cell_type": "code",
   "execution_count": 17,
   "id": "715ef80e-231b-4205-8349-c0e30ba91b27",
   "metadata": {},
   "outputs": [
    {
     "name": "stdout",
     "output_type": "stream",
     "text": [
      "+----------------+----------------+\n",
      "|          Course|high_dep_percent|\n",
      "+----------------+----------------+\n",
      "|Computer Science|           52.53|\n",
      "|          Others|           20.84|\n",
      "|             Law|           19.93|\n",
      "|     Engineering|           19.68|\n",
      "|        Business|           19.67|\n",
      "+----------------+----------------+\n",
      "\n"
     ]
    }
   ],
   "source": [
    "# 4. Top 5 Courses with Highest % of High Depression Level\n",
    "spark.sql(\"\"\"\n",
    "    SELECT Course,\n",
    "           ROUND(100.0 * SUM(CASE WHEN Depression_Level='High' THEN 1 ELSE 0 END) / COUNT(*), 2) as high_dep_percent\n",
    "    FROM students\n",
    "    GROUP BY Course\n",
    "    ORDER BY high_dep_percent DESC\n",
    "    LIMIT 5\n",
    "\"\"\").show()"
   ]
  },
  {
   "cell_type": "code",
   "execution_count": 18,
   "id": "9dd35caf-54f5-4940-aaac-c409c70a1234",
   "metadata": {},
   "outputs": [
    {
     "name": "stdout",
     "output_type": "stream",
     "text": [
      "+--------------+----------------+-----+\n",
      "|Social_Support|Depression_Level|count|\n",
      "+--------------+----------------+-----+\n",
      "|          High|            High|  541|\n",
      "|          High|             Low|  847|\n",
      "|          High|        Moderate|  788|\n",
      "|           Low|            High|  350|\n",
      "|           Low|             Low|  478|\n",
      "|           Low|        Moderate|  548|\n",
      "|      Moderate|            High|  836|\n",
      "|      Moderate|             Low| 1278|\n",
      "|      Moderate|        Moderate| 1356|\n",
      "+--------------+----------------+-----+\n",
      "\n"
     ]
    }
   ],
   "source": [
    "# 5. Stacked Bar Table: Social Support vs Depression Level\n",
    "spark.sql(\"\"\"\n",
    "    SELECT Social_Support, Depression_Level, COUNT(*) as count\n",
    "    FROM students\n",
    "    GROUP BY Social_Support, Depression_Level\n",
    "    ORDER BY Social_Support, Depression_Level\n",
    "\"\"\").show()"
   ]
  },
  {
   "cell_type": "code",
   "execution_count": 19,
   "id": "bc5a8cf8-c3b3-49a8-923a-988ae0d815b4",
   "metadata": {},
   "outputs": [
    {
     "name": "stdout",
     "output_type": "stream",
     "text": [
      "+-------------------+------------------+\n",
      "|Relationship_Status|    avg_fin_stress|\n",
      "+-------------------+------------------+\n",
      "|  In a Relationship|2.4704184704184704|\n",
      "|             Single| 2.452434247341914|\n",
      "|            Married|2.4280496712929147|\n",
      "+-------------------+------------------+\n",
      "\n"
     ]
    }
   ],
   "source": [
    "# 6. Financial Stress by Relationship Status, ordered by avg stress\n",
    "spark.sql(\"\"\"\n",
    "    SELECT Relationship_Status, AVG(Financial_Stress) as avg_fin_stress\n",
    "    FROM students\n",
    "    GROUP BY Relationship_Status\n",
    "    ORDER BY avg_fin_stress DESC\n",
    "\"\"\").show()\n"
   ]
  },
  {
   "cell_type": "code",
   "execution_count": 20,
   "id": "6a8cc1ce-dc85-41eb-95d1-792d4e168e60",
   "metadata": {},
   "outputs": [
    {
     "name": "stdout",
     "output_type": "stream",
     "text": [
      "+----------------+----------------------+-----+\n",
      "|Depression_Level|Counseling_Service_Use|count|\n",
      "+----------------+----------------------+-----+\n",
      "|            High|            Frequently|  180|\n",
      "|            High|                 Never| 1031|\n",
      "|            High|          Occasionally|  516|\n",
      "|             Low|            Frequently|  240|\n",
      "|             Low|                 Never| 1570|\n",
      "|             Low|          Occasionally|  793|\n",
      "|        Moderate|            Frequently|  258|\n",
      "|        Moderate|                 Never| 1662|\n",
      "|        Moderate|          Occasionally|  772|\n",
      "+----------------+----------------------+-----+\n",
      "\n"
     ]
    }
   ],
   "source": [
    "\n",
    "# 8. Counseling Service Use by Depression Level (tabular for bar chart)\n",
    "spark.sql(\"\"\"\n",
    "    SELECT Depression_Level, Counseling_Service_Use, COUNT(*) as count\n",
    "    FROM students\n",
    "    GROUP BY Depression_Level, Counseling_Service_Use\n",
    "    ORDER BY Depression_Level, Counseling_Service_Use\n",
    "\"\"\").show()"
   ]
  },
  {
   "cell_type": "code",
   "execution_count": 21,
   "id": "1177a0a9-fb1e-4304-a992-afd3b31bb6ac",
   "metadata": {},
   "outputs": [
    {
     "name": "stdout",
     "output_type": "stream",
     "text": [
      "+-------------------+----------+-------+\n",
      "|Relationship_Status|n_students|percent|\n",
      "+-------------------+----------+-------+\n",
      "|             Single|      3574|  50.90|\n",
      "|  In a Relationship|      2079|  29.61|\n",
      "|            Married|      1369|  19.50|\n",
      "+-------------------+----------+-------+\n",
      "\n"
     ]
    }
   ],
   "source": [
    "# 9. Pie Chart Table: Relationship Status as % of all students\n",
    "spark.sql(\"\"\"\n",
    "    SELECT Relationship_Status,\n",
    "           COUNT(*) AS n_students,\n",
    "           ROUND(100.0 * COUNT(*) / (SELECT COUNT(*) FROM students), 2) AS percent\n",
    "    FROM students\n",
    "    GROUP BY Relationship_Status\n",
    "    ORDER BY percent DESC\n",
    "\"\"\").show()"
   ]
  },
  {
   "cell_type": "code",
   "execution_count": 22,
   "id": "6fc439b7-89e0-4e0b-a5fa-f6d2a867b692",
   "metadata": {},
   "outputs": [],
   "source": [
    "# 10. Cluster Analysis: Mean CGPA, Stress, Depression Score per Cluster (if clustering done)\n",
    "if 'prediction' in df.columns:\n",
    "    spark.sql(\"\"\"\n",
    "        SELECT prediction as cluster,\n",
    "               AVG(CGPA) as avg_cgpa,\n",
    "               AVG(Stress_Level) as avg_stress,\n",
    "               AVG(Depression_Score) as avg_dep\n",
    "        FROM students\n",
    "        GROUP BY prediction\n",
    "        ORDER BY cluster\n",
    "    \"\"\").show()"
   ]
  },
  {
   "cell_type": "code",
   "execution_count": 23,
   "id": "fc5a887c-b28b-4e58-96ed-1f19b741d341",
   "metadata": {},
   "outputs": [],
   "source": [
    "# Features for regression (NO Depression_Score as input)\n",
    "regression_feature_cols = [\n",
    "    'Age', 'CGPA', 'Stress_Level', 'Anxiety_Score',\n",
    "    'Financial_Stress', 'Semester_Credit_Load',\n",
    "    'Gender_idx', 'Course_idx', 'Sleep_Quality_idx', 'Physical_Activity_idx',\n",
    "    'Diet_Quality_idx', 'Social_Support_idx', 'Relationship_Status_idx',\n",
    "    'Substance_Use_idx', 'Counseling_Service_Use_idx', 'Family_History_idx',\n",
    "    'Chronic_Illness_idx', 'Extracurricular_Involvement_idx', 'Residence_Type_idx'\n",
    "]\n",
    "assembler_reg = VectorAssembler(\n",
    "    inputCols=regression_feature_cols,\n",
    "    outputCol='features_reg'\n",
    ")\n",
    "df = assembler_reg.transform(df)\n",
    "scaler_reg = StandardScaler(inputCol='features_reg', outputCol='features_reg_scaled')\n",
    "df = scaler_reg.fit(df).transform(df)\n",
    "\n",
    "# Features for classification (same, NO Depression_Score)\n",
    "classification_feature_cols = regression_feature_cols  # identical in this case\n",
    "assembler_cls = VectorAssembler(\n",
    "    inputCols=classification_feature_cols,\n",
    "    outputCol='features_cls'\n",
    ")\n",
    "df = assembler_cls.transform(df)\n",
    "scaler_cls = StandardScaler(inputCol='features_cls', outputCol='features_cls_scaled')\n",
    "df = scaler_cls.fit(df).transform(df)\n"
   ]
  },
  {
   "cell_type": "code",
   "execution_count": 24,
   "id": "37958489-5611-41ae-aca7-7ba6dfe72eda",
   "metadata": {},
   "outputs": [
    {
     "name": "stderr",
     "output_type": "stream",
     "text": [
      "25/07/08 12:57:12 WARN InstanceBuilder: Failed to load implementation from:dev.ludovic.netlib.blas.JNIBLAS\n"
     ]
    },
    {
     "name": "stdout",
     "output_type": "stream",
     "text": [
      "Silhouette Score: 0.06888392893015759\n"
     ]
    }
   ],
   "source": [
    "kmeans = KMeans(featuresCol='features_reg_scaled', k=4, seed=42)\n",
    "km_model = kmeans.fit(df)\n",
    "df = km_model.transform(df)\n",
    "\n",
    "# Evaluate before renaming prediction\n",
    "clust_evaluator = ClusteringEvaluator(featuresCol='features_reg_scaled', predictionCol='prediction', metricName='silhouette')\n",
    "silhouette = clust_evaluator.evaluate(df)\n",
    "print('Silhouette Score:', silhouette)\n",
    "\n",
    "# Now rename for clarity\n",
    "df = df.withColumnRenamed('prediction', 'KMeans_Cluster')"
   ]
  },
  {
   "cell_type": "code",
   "execution_count": 25,
   "id": "69cfc34e-9152-4cbb-97c7-7779214a9ea0",
   "metadata": {},
   "outputs": [],
   "source": [
    "df = df.withColumn('row_id', monotonically_increasing_id())\n"
   ]
  },
  {
   "cell_type": "code",
   "execution_count": 26,
   "id": "2603960b-40f7-4626-9b58-7012c950cd5b",
   "metadata": {},
   "outputs": [
    {
     "name": "stderr",
     "output_type": "stream",
     "text": [
      "25/07/08 12:57:15 WARN Instrumentation: [fcb27381] regParam is zero, which might cause numerical instability and overfitting.\n",
      "25/07/08 12:57:15 WARN InstanceBuilder: Failed to load implementation from:dev.ludovic.netlib.lapack.JNILAPACK\n"
     ]
    },
    {
     "name": "stdout",
     "output_type": "stream",
     "text": [
      "--- Regression Results on Test Set ---\n",
      "Random Forest RMSE: 1.595\n",
      "Random Forest R2: 0.053\n",
      "Decision Tree RMSE: 1.609\n",
      "Decision Tree R2: 0.037\n",
      "Linear Regression RMSE: 1.637\n",
      "Linear Regression R2: 0.004\n"
     ]
    }
   ],
   "source": [
    "reg_train, reg_test = df.randomSplit([0.8, 0.2], seed=42)\n",
    "\n",
    "# 1. Random Forest Regressor\n",
    "rf_reg = RandomForestRegressor(labelCol='Depression_Score', featuresCol='features_reg_scaled')\n",
    "rf_model = rf_reg.fit(reg_train)\n",
    "rf_pred_test = rf_model.transform(reg_test)\n",
    "rf_pred_full = rf_model.transform(df).select('row_id', col('prediction').alias('reg_pred_1'))\n",
    "\n",
    "# 2. Decision Tree Regressor\n",
    "dt_reg = DecisionTreeRegressor(labelCol='Depression_Score', featuresCol='features_reg_scaled')\n",
    "dt_model = dt_reg.fit(reg_train)\n",
    "dt_pred_test = dt_model.transform(reg_test)\n",
    "dt_pred_full = dt_model.transform(df).select('row_id', col('prediction').alias('reg_pred_2'))\n",
    "\n",
    "# 3. Linear Regression\n",
    "lin_reg = LinearRegression(labelCol='Depression_Score', featuresCol='features_reg_scaled')\n",
    "lin_model = lin_reg.fit(reg_train)\n",
    "lin_pred_test = lin_model.transform(reg_test)\n",
    "lin_pred_full = lin_model.transform(df).select('row_id', col('prediction').alias('reg_pred_3'))\n",
    "\n",
    "# Join regression predictions\n",
    "df = df.join(rf_pred_full, on='row_id', how='left')\n",
    "df = df.join(dt_pred_full, on='row_id', how='left')\n",
    "df = df.join(lin_pred_full, on='row_id', how='left')\n",
    "\n",
    "# Evaluate regression\n",
    "def eval_regression(pred, name):\n",
    "    rmse = RegressionEvaluator(labelCol='Depression_Score', predictionCol='prediction', metricName='rmse').evaluate(pred)\n",
    "    r2 = RegressionEvaluator(labelCol='Depression_Score', predictionCol='prediction', metricName='r2').evaluate(pred)\n",
    "    print(f\"{name} RMSE: {rmse:.3f}\")\n",
    "    print(f\"{name} R2: {r2:.3f}\")\n",
    "\n",
    "print('--- Regression Results on Test Set ---')\n",
    "eval_regression(rf_pred_test, 'Random Forest')\n",
    "eval_regression(dt_pred_test, 'Decision Tree')\n",
    "eval_regression(lin_pred_test, 'Linear Regression')\n"
   ]
  },
  {
   "cell_type": "code",
   "execution_count": 27,
   "id": "3530d75f-ae85-48b9-a9f0-96bd4d933945",
   "metadata": {},
   "outputs": [
    {
     "name": "stdout",
     "output_type": "stream",
     "text": [
      "Train label counts:\n",
      "High_Depression_Risk\n",
      "0    3125\n",
      "1    2492\n",
      "Name: count, dtype: int64\n",
      "Test label counts:\n",
      "High_Depression_Risk\n",
      "0    782\n",
      "1    623\n",
      "Name: count, dtype: int64\n"
     ]
    },
    {
     "name": "stderr",
     "output_type": "stream",
     "text": [
      "Exception ignored in: <_io.BufferedWriter name=5>\n",
      "Traceback (most recent call last):\n",
      "  File \"/Library/Frameworks/Python.framework/Versions/3.13/lib/python3.13/site-packages/pyspark/python/lib/pyspark.zip/pyspark/daemon.py\", line 200, in manager\n",
      "BrokenPipeError: [Errno 32] Broken pipe\n",
      "Exception ignored in: <_io.BufferedWriter name=5>\n",
      "Traceback (most recent call last):\n",
      "  File \"/Library/Frameworks/Python.framework/Versions/3.13/lib/python3.13/site-packages/pyspark/python/lib/pyspark.zip/pyspark/daemon.py\", line 200, in manager\n",
      "BrokenPipeError: [Errno 32] Broken pipe\n"
     ]
    },
    {
     "name": "stdout",
     "output_type": "stream",
     "text": [
      "--- Classification Results on Test Set ---\n",
      "Logistic Regression Accuracy: 0.552\n",
      "Logistic Regression F1 Score: 0.476\n",
      "Random Forest Classifier Accuracy: 0.623\n",
      "Random Forest Classifier F1 Score: 0.583\n",
      "Decision Tree Classifier Accuracy: 0.607\n",
      "Decision Tree Classifier F1 Score: 0.577\n"
     ]
    }
   ],
   "source": [
    "# Use threshold 3 for High_Depression_Risk (from data)\n",
    "df = df.withColumn('High_Depression_Risk', when(df['Depression_Score'] >= 3, 1).otherwise(0))\n",
    "\n",
    "# Convert to Pandas for stratified split\n",
    "df_pd = df.toPandas()\n",
    "\n",
    "# STRATIFIED SPLIT\n",
    "train_pd, test_pd = train_test_split(\n",
    "    df_pd,\n",
    "    test_size=0.2,\n",
    "    random_state=42,\n",
    "    stratify=df_pd['High_Depression_Risk']\n",
    ")\n",
    "\n",
    "print(\"Train label counts:\")\n",
    "print(train_pd['High_Depression_Risk'].value_counts())\n",
    "print(\"Test label counts:\")\n",
    "print(test_pd['High_Depression_Risk'].value_counts())\n",
    "\n",
    "# Convert back to Spark DataFrame\n",
    "train_spark = spark.createDataFrame(train_pd)\n",
    "test_spark = spark.createDataFrame(test_pd)\n",
    "\n",
    "# 1. Logistic Regression\n",
    "lr = LogisticRegression(labelCol='High_Depression_Risk', featuresCol='features_cls_scaled')\n",
    "lr_model = lr.fit(train_spark)\n",
    "lr_pred_test = lr_model.transform(test_spark)\n",
    "lr_pred_full = lr_model.transform(df).select('row_id', col('prediction').alias('class_pred_1'))\n",
    "\n",
    "# 2. Random Forest Classifier\n",
    "rf = RandomForestClassifier(labelCol='High_Depression_Risk', featuresCol='features_cls_scaled')\n",
    "rf_model = rf.fit(train_spark)\n",
    "rf_pred_test = rf_model.transform(test_spark)\n",
    "rf_pred_full = rf_model.transform(df).select('row_id', col('prediction').alias('class_pred_2'))\n",
    "\n",
    "# 3. Decision Tree Classifier\n",
    "dt = DecisionTreeClassifier(labelCol='High_Depression_Risk', featuresCol='features_cls_scaled')\n",
    "dt_model = dt.fit(train_spark)\n",
    "dt_pred_test = dt_model.transform(test_spark)\n",
    "dt_pred_full = dt_model.transform(df).select('row_id', col('prediction').alias('class_pred_3'))\n",
    "\n",
    "# Join classification predictions\n",
    "df = df.join(lr_pred_full, on='row_id', how='left')\n",
    "df = df.join(rf_pred_full, on='row_id', how='left')\n",
    "df = df.join(dt_pred_full, on='row_id', how='left')\n",
    "\n",
    "# Evaluate classification\n",
    "def eval_classification(pred, name):\n",
    "    acc = MulticlassClassificationEvaluator(labelCol='High_Depression_Risk', predictionCol='prediction', metricName='accuracy').evaluate(pred)\n",
    "    f1 = MulticlassClassificationEvaluator(labelCol='High_Depression_Risk', predictionCol='prediction', metricName='f1').evaluate(pred)\n",
    "    print(f'{name} Accuracy: {acc:.3f}')\n",
    "    print(f'{name} F1 Score: {f1:.3f}')\n",
    "\n",
    "print('--- Classification Results on Test Set ---')\n",
    "eval_classification(lr_pred_test, 'Logistic Regression')\n",
    "eval_classification(rf_pred_test, 'Random Forest Classifier')\n",
    "eval_classification(dt_pred_test, 'Decision Tree Classifier')\n"
   ]
  },
  {
   "cell_type": "code",
   "execution_count": 28,
   "id": "863f3210-c4b5-479d-8b7c-0c02576f1fa9",
   "metadata": {},
   "outputs": [],
   "source": [
    "export_cols = [\n",
    "    'Age', 'Gender', 'CGPA', 'Stress_Level', 'Depression_Score', 'Anxiety_Score', 'Sleep_Quality',\n",
    "    'KMeans_Cluster',\n",
    "    'reg_pred_1', 'reg_pred_2', 'reg_pred_3',\n",
    "    'High_Depression_Risk',\n",
    "    'class_pred_1', 'class_pred_2', 'class_pred_3'\n",
    "]\n",
    "output_pd = df.select(*export_cols).toPandas()\n",
    "output_pd.to_excel('student_mental_health_results.xlsx', index=False)\n"
   ]
  },
  {
   "cell_type": "code",
   "execution_count": 29,
   "id": "f4e15c79-1d6a-4d55-8653-57de0155c468",
   "metadata": {},
   "outputs": [],
   "source": [
    "spark.stop()\n"
   ]
  }
 ],
 "metadata": {
  "kernelspec": {
   "display_name": "Python 3 (ipykernel)",
   "language": "python",
   "name": "python3"
  },
  "language_info": {
   "codemirror_mode": {
    "name": "ipython",
    "version": 3
   },
   "file_extension": ".py",
   "mimetype": "text/x-python",
   "name": "python",
   "nbconvert_exporter": "python",
   "pygments_lexer": "ipython3",
   "version": "3.13.2"
  }
 },
 "nbformat": 4,
 "nbformat_minor": 5
}
